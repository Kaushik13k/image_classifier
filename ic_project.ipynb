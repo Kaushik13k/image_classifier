{
  "nbformat": 4,
  "nbformat_minor": 0,
  "metadata": {
    "colab": {
      "name": "ic_project.ipynb",
      "private_outputs": true,
      "provenance": [],
      "collapsed_sections": []
    },
    "kernelspec": {
      "name": "python3",
      "display_name": "Python 3"
    },
    "accelerator": "GPU"
  },
  "cells": [
    {
      "cell_type": "code",
      "metadata": {
        "id": "BAQMbrGhP8oJ"
      },
      "source": [
        "# http://vision.stanford.edu/aditya86/ImageNetDogs/images.tar"
      ],
      "execution_count": null,
      "outputs": []
    },
    {
      "cell_type": "code",
      "metadata": {
        "id": "3BI-LhgpQYuG"
      },
      "source": [
        "import matplotlib.pyplot as plt\n",
        "import numpy as np\n",
        "import os\n",
        "import PIL\n",
        "import tensorflow as tf\n",
        "\n",
        "from tensorflow import keras\n",
        "from tensorflow.keras import layers\n",
        "from tensorflow.keras.models import Sequential\n"
      ],
      "execution_count": null,
      "outputs": []
    },
    {
      "cell_type": "code",
      "metadata": {
        "id": "adUP45QlQxWi"
      },
      "source": [
        "!wget --no-check-certificate http://vision.stanford.edu/aditya86/ImageNetDogs/images.tar"
      ],
      "execution_count": null,
      "outputs": []
    },
    {
      "cell_type": "code",
      "metadata": {
        "id": "mREJ2IDiRnWw"
      },
      "source": [
        "import tarfile \n",
        "f = tarfile.open(\"images.tar\")\n",
        "f.extractall('.')\n",
        "f.close()"
      ],
      "execution_count": null,
      "outputs": []
    },
    {
      "cell_type": "code",
      "metadata": {
        "id": "E41DGX8UR6zF"
      },
      "source": [
        "requires_class = [\n",
        "                  \"n02085782-Japanese_spaniel\",\n",
        "                  \"n02085620-Chihuahua\",\n",
        "                  \"n02087046-toy_terrier\"\n",
        "]"
      ],
      "execution_count": null,
      "outputs": []
    },
    {
      "cell_type": "code",
      "metadata": {
        "id": "wDZR_p_XSgs5"
      },
      "source": [
        "import os\n",
        "import shutil\n",
        "\n",
        "if not os.path.exists('datsets'):\n",
        "  os.mkdir('datsets')\n",
        "\n",
        "for dir_name in requires_class:\n",
        "  src = f\"Images/{dir_name}\"\n",
        "  dst = f\"datasets/{dir_name}\"\n",
        "\n",
        "  shutil.copytree(src, dst)"
      ],
      "execution_count": null,
      "outputs": []
    },
    {
      "cell_type": "code",
      "metadata": {
        "id": "axTiNwC-UXTD"
      },
      "source": [
        "base_dir = \"datasets/\""
      ],
      "execution_count": null,
      "outputs": []
    },
    {
      "cell_type": "code",
      "metadata": {
        "id": "NUi8kOdNUcVv"
      },
      "source": [
        "import pathlib\n",
        "\n",
        "data_directory = pathlib.Path(base_dir)\n",
        "total_imgs = len(list(data_directory.glob('*/*.*')))\n",
        "print(f\"Total images: {total_imgs}\")"
      ],
      "execution_count": null,
      "outputs": []
    },
    {
      "cell_type": "markdown",
      "metadata": {
        "id": "skrKlix_VJRK"
      },
      "source": [
        "**batch_size** = 32\n",
        "img_width = 180\n",
        "img_geight = 180"
      ]
    },
    {
      "cell_type": "code",
      "metadata": {
        "id": "B2u6JUAqVXyG"
      },
      "source": [
        "batch_size = 32\n",
        "img_width = 180\n",
        "img_beight = 180"
      ],
      "execution_count": null,
      "outputs": []
    },
    {
      "cell_type": "code",
      "metadata": {
        "id": "-t9oSGTPVfo_"
      },
      "source": [
        "training_dataset = tf.keras.preprocessing.image_dataset_from_directory(\n",
        "    data_directory,\n",
        "    class_names = list(sorted(requires_class)),\n",
        "    image_size = (img_width, img_beight),\n",
        "    validation_split = 0.2,\n",
        "    subset=\"training\",\n",
        "    seed=123\n",
        ")"
      ],
      "execution_count": null,
      "outputs": []
    },
    {
      "cell_type": "code",
      "metadata": {
        "id": "kxPchYfGWcKk"
      },
      "source": [
        "class_name = training_dataset.class_names\n",
        "total_classes = len(class_name)\n",
        "\n",
        "print(f\"class names are:{class_name}\")\n",
        "print(f\"total class are: {total_classes}\")"
      ],
      "execution_count": null,
      "outputs": []
    },
    {
      "cell_type": "code",
      "metadata": {
        "id": "-RSwy8BeKov1"
      },
      "source": [
        "data_augmentation = keras.Sequential(\n",
        "    [\n",
        "     layers.experimental.preprocessing.RandomFlip(\"horizontal\", input_shape=(img_width, img_beight, 3)),\n",
        "     layers.experimental.preprocessing.RandomRotation(0.1),\n",
        "     layers.experimental.preprocessing.RandomZoom(0.1),    ])"
      ],
      "execution_count": null,
      "outputs": []
    },
    {
      "cell_type": "code",
      "metadata": {
        "id": "iQriM-JKLf63"
      },
      "source": [
        "model =  Sequential([\n",
        "                     data_augmentation,\n",
        "                     layers.experimental.preprocessing.Rescaling(1.0/255.0),\n",
        "                     layers.Conv2D(16, 3, padding=\"same\", activation=\"relu\"),\n",
        "                     layers.MaxPool2D(),\n",
        "                     layers.Conv2D(32, 3, padding=\"same\", activation=\"relu\"),\n",
        "                     layers.MaxPool2D(),\n",
        "                     layers.Conv2D(64, 3, padding=\"same\", activation=\"relu\"),\n",
        "                     layers.MaxPool2D(),\n",
        "                     layers.Dropout(0.2),\n",
        "                     layers.Flatten(),\n",
        "                     layers.Dense(128, activation=\"relu\"),\n",
        "                     layers.Dense(total_classes)                     ])"
      ],
      "execution_count": null,
      "outputs": []
    },
    {
      "cell_type": "code",
      "metadata": {
        "id": "DCWGOck7OJ1E"
      },
      "source": [
        "model.compile(optimizer=\"adam\",\n",
        "              loss=tf.keras.losses.SparseCategoricalCrossentropy(from_logits=True),              metrics=['accuracy'])"
      ],
      "execution_count": null,
      "outputs": []
    },
    {
      "cell_type": "code",
      "metadata": {
        "id": "n1JJmUP3N_qR"
      },
      "source": [
        "epochs = 30\n",
        "\n",
        "ep_history = model.fit(\n",
        "    training_dataset,\n",
        "    validation_data = training_dataset,\n",
        "    epochs=epochs\n",
        " )"
      ],
      "execution_count": null,
      "outputs": []
    },
    {
      "cell_type": "code",
      "metadata": {
        "id": "aEQs8JKqPOpz"
      },
      "source": [
        "import glob\n",
        "\n",
        "import random\n",
        "\n",
        "all_img = glob.glob(f\"{base_dir}/**/*.jpg\")"
      ],
      "execution_count": null,
      "outputs": []
    },
    {
      "cell_type": "code",
      "metadata": {
        "id": "35JJbhgrPvBg"
      },
      "source": [
        "random_image = random.choice(all_img)\n",
        "\n",
        "print(f\"Random image:{random_image}\")\n",
        "\n",
        "img = keras.preprocessing.image.load_img(\n",
        "    random_image,\n",
        "    target_size=(img_width, img_beight)\n",
        ")\n",
        "\n",
        "img_array = keras.preprocessing.image.img_to_array(img)\n",
        "img_array = tf.expand_dims(img_array, 0)\n",
        "\n",
        "prediction = model.predict(img_array)\n",
        "score = tf.nn.softmax(prediction[0])\n",
        "\n",
        "print(f\"predictions : {prediction}\")\n",
        "print(f\"Score: {score}\")\n",
        "\n",
        "prediction_name = class_name[np.argmax(score)]\n",
        "per = np.max(score) * 100\n",
        "\n",
        "print(f\"image belongs to {prediction_name} with {per: .2f}% confidence\")\n",
        "\n"
      ],
      "execution_count": null,
      "outputs": []
    },
    {
      "cell_type": "code",
      "metadata": {
        "id": "bkqO_M7sRpHR"
      },
      "source": [
        "model.save('dog-breed.h5')"
      ],
      "execution_count": null,
      "outputs": []
    },
    {
      "cell_type": "code",
      "metadata": {
        "id": "P25OX14u0Y-D"
      },
      "source": [
        ""
      ],
      "execution_count": null,
      "outputs": []
    }
  ]
}